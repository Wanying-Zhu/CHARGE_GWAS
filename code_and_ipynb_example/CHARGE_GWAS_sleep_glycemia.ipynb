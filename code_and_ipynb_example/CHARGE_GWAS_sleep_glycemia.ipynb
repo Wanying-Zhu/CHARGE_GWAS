{
 "cells": [
  {
   "cell_type": "code",
   "execution_count": 1,
   "id": "c030d356-be84-46cd-ac6a-4c7d809d2b0a",
   "metadata": {},
   "outputs": [
    {
     "name": "stdout",
     "output_type": "stream",
     "text": [
      "Last run: 2024-01-22\n"
     ]
    }
   ],
   "source": [
    "import pandas as pd\n",
    "import numpy as np\n",
    "from sklearn.linear_model import LinearRegression\n",
    "import datetime\n",
    "import subprocess\n",
    "import os\n",
    "import sys\n",
    "sys.path.append('/data100t1/home/wanying/lab_code/utils/')\n",
    "import CHARGE\n",
    "print('Last run:', datetime.datetime.now().strftime('%Y-%m-%d'))"
   ]
  },
  {
   "cell_type": "markdown",
   "id": "a794ac3c-d54e-41af-83ca-795bcf2642d6",
   "metadata": {},
   "source": [
    "# 1. File preparation and cleaning"
   ]
  },
  {
   "cell_type": "markdown",
   "id": "77097d5f-8202-4c8d-9c22-3f041ba11881",
   "metadata": {
    "tags": []
   },
   "source": [
    "## 1.1 Phenotypes and data adjustments\n",
    "Variables to look for in the CCHC data:\n",
    "1. GHB: HbA1c in % (fasting does not affect this value)\n",
    "2. MFBG: fasting glucose (mg/dL)\n",
    "\n",
    "Exclusion criteria:\n",
    "1. Exclude dibetic subjects\n",
    "2. Exclude missing values\n",
    "3. Exclude individuals reporting a total sleep time of less than 3 hours or more than 14 hours\n",
    "4. Exclude age<18"
   ]
  },
  {
   "cell_type": "code",
   "execution_count": 2,
   "id": "560c94c4-e514-4192-b67c-57723455de7c",
   "metadata": {},
   "outputs": [
    {
     "name": "stdout",
     "output_type": "stream",
     "text": [
      "# Load phenotype file\n",
      "# - Exclude subjects (visits) with diabetes or younger than 18 yrs: N dropped = 3968\n",
      "# - Drop visits with missing values in age, sex, ADA2010_DM, GHB and sleep: N dropped = 6156\n",
      "# - Drop individuals with sleep time < 3hrs or > 14hrs: N dropped = 2\n",
      "# - Drop duplicate RRID: N dropped = 0\n",
      "# - Merge with PC 1-5\n",
      "# Number of samples remaining: 353\n",
      "# DONE\n"
     ]
    },
    {
     "data": {
      "text/html": [
       "<div>\n",
       "<style scoped>\n",
       "    .dataframe tbody tr th:only-of-type {\n",
       "        vertical-align: middle;\n",
       "    }\n",
       "\n",
       "    .dataframe tbody tr th {\n",
       "        vertical-align: top;\n",
       "    }\n",
       "\n",
       "    .dataframe thead th {\n",
       "        text-align: right;\n",
       "    }\n",
       "</style>\n",
       "<table border=\"1\" class=\"dataframe\">\n",
       "  <thead>\n",
       "    <tr style=\"text-align: right;\">\n",
       "      <th></th>\n",
       "      <th>RRID</th>\n",
       "      <th>LABID</th>\n",
       "      <th>VISIT</th>\n",
       "      <th>AGE_AT_VISIT</th>\n",
       "      <th>GENDER</th>\n",
       "      <th>ADA2010_DM</th>\n",
       "      <th>MFBG</th>\n",
       "      <th>GHB</th>\n",
       "      <th>psqi_hrsleep</th>\n",
       "      <th>PC1</th>\n",
       "      <th>PC2</th>\n",
       "      <th>PC3</th>\n",
       "      <th>PC4</th>\n",
       "      <th>PC5</th>\n",
       "    </tr>\n",
       "  </thead>\n",
       "  <tbody>\n",
       "    <tr>\n",
       "      <th>0</th>\n",
       "      <td>BD0009</td>\n",
       "      <td>15Y0224</td>\n",
       "      <td>4.0</td>\n",
       "      <td>61.2</td>\n",
       "      <td>1.0</td>\n",
       "      <td>0.0</td>\n",
       "      <td>85.0</td>\n",
       "      <td>5.1</td>\n",
       "      <td>5.0</td>\n",
       "      <td>0.010911</td>\n",
       "      <td>-0.075311</td>\n",
       "      <td>0.006324</td>\n",
       "      <td>0.020142</td>\n",
       "      <td>-0.009451</td>\n",
       "    </tr>\n",
       "    <tr>\n",
       "      <th>1</th>\n",
       "      <td>BD0013</td>\n",
       "      <td>15Y0242</td>\n",
       "      <td>14.0</td>\n",
       "      <td>59.8</td>\n",
       "      <td>1.0</td>\n",
       "      <td>0.0</td>\n",
       "      <td>108.0</td>\n",
       "      <td>5.5</td>\n",
       "      <td>8.0</td>\n",
       "      <td>-0.036728</td>\n",
       "      <td>0.014562</td>\n",
       "      <td>0.032178</td>\n",
       "      <td>0.003866</td>\n",
       "      <td>0.005183</td>\n",
       "    </tr>\n",
       "  </tbody>\n",
       "</table>\n",
       "</div>"
      ],
      "text/plain": [
       "     RRID    LABID  VISIT  AGE_AT_VISIT  GENDER  ADA2010_DM   MFBG  GHB  \\\n",
       "0  BD0009  15Y0224    4.0          61.2     1.0         0.0   85.0  5.1   \n",
       "1  BD0013  15Y0242   14.0          59.8     1.0         0.0  108.0  5.5   \n",
       "\n",
       "   psqi_hrsleep       PC1       PC2       PC3       PC4       PC5  \n",
       "0           5.0  0.010911 -0.075311  0.006324  0.020142 -0.009451  \n",
       "1           8.0 -0.036728  0.014562  0.032178  0.003866  0.005183  "
      ]
     },
     "metadata": {},
     "output_type": "display_data"
    }
   ],
   "source": [
    "print('# Load phenotype file')\n",
    "cols_to_use = ['RRID', 'LABID',  'VISIT', 'AGE_AT_VISIT', 'GENDER', 'ADA2010_DM', 'MFBG', 'GHB', 'psqi_hrsleep'] \n",
    "fn_pheno = '/data100t1/share/CCHC/phenotypes/0723/cchc_phenotypes_0723.txt'\n",
    "df_pheno = pd.read_csv(fn_pheno, sep='|', dtype='str')[cols_to_use]\n",
    "for col in cols_to_use[2:]:\n",
    "    df_pheno[col] = pd.to_numeric(df_pheno[col])\n",
    "\n",
    "# Drop missing values etc.\n",
    "n_samples = len(df_pheno)\n",
    "df_pheno = df_pheno[(df_pheno['AGE_AT_VISIT']>=18) & (df_pheno['ADA2010_DM']==0)].copy()\n",
    "print('# - Exclude subjects (visits) with diabetes or younger than 18 yrs: N dropped =', n_samples-len(df_pheno))\n",
    "n_samples = len(df_pheno)\n",
    "\n",
    "df_pheno.dropna(subset=cols_to_use[3:], inplace=True)\n",
    "print('# - Drop visits with missing values in age, sex, ADA2010_DM, GHB and sleep: N dropped =', n_samples-len(df_pheno))\n",
    "n_samples = len(df_pheno)\n",
    "\n",
    "df_pheno = df_pheno[(df_pheno['psqi_hrsleep']>=3) & (df_pheno['psqi_hrsleep']<=14)]\n",
    "print('# - Drop individuals with sleep time < 3hrs or > 14hrs: N dropped =', n_samples-len(df_pheno))\n",
    "n_samples = len(df_pheno)\n",
    "\n",
    "df_pheno.drop_duplicates(subset='RRID', inplace=True)\n",
    "print('# - Drop duplicate RRID: N dropped =', n_samples-len(df_pheno))\n",
    "\n",
    "# Merge with PCA (Use PC 1-5)\n",
    "pca_fn = '/data100t1/home/wanying/CCHC/doc/genotype_and_pc/202210_CCHC_PCs_id_fixed_1KG_controls_removed.txt'\n",
    "df_pca = pd.read_csv(pca_fn , sep='\\t')\n",
    "pca_cols = ['RRID', 'PC1', 'PC2', 'PC3', 'PC4', 'PC5']\n",
    "df_pheno = df_pheno.merge(df_pca[pca_cols], on='RRID')\n",
    "print('# - Merge with PC 1-5')\n",
    "\n",
    "print('# Number of samples remaining:', len(df_pheno))\n",
    "print('# DONE')\n",
    "display(df_pheno.head(2))"
   ]
  },
  {
   "cell_type": "markdown",
   "id": "bb9bc787-7c4d-4132-9212-b67565fceeee",
   "metadata": {},
   "source": [
    "## 1.2 Lifestyle variable\n",
    "\n",
    "“SHORT TOTAL SLEEP TIME” (STST) AND “LONG TOTAL SLEEP TIME” (LTST)\n",
    "```\n",
    "Before defining exposure, we request all cohorts (see note and R code below) to regress the total sleep duration on age, sex, and age*sex interaction in the sexes-combined sample, and use those age-sex-adjusted residuals in the combined sample to define the exposure variables in males, females, and the combined sample. You may do this using the R script below. Please exclude all individuals without genetics data prior to calculating the age-sex-adjusted residuals for total sleep duration.\n",
    "```"
   ]
  },
  {
   "cell_type": "markdown",
   "id": "7ab5db12-b9e2-4a70-ad38-5706208ff371",
   "metadata": {},
   "source": [
    "### 1.2.1 Drop samples without genotype data"
   ]
  },
  {
   "cell_type": "code",
   "execution_count": 3,
   "id": "670b1c6f-345a-4353-ac4f-747e1d109b30",
   "metadata": {
    "tags": []
   },
   "outputs": [
    {
     "name": "stdout",
     "output_type": "stream",
     "text": [
      "# Exclude individuals without genotype data: N sample dropped =  0\n",
      "# Number of samples remaining: 353\n"
     ]
    },
    {
     "data": {
      "text/html": [
       "<div>\n",
       "<style scoped>\n",
       "    .dataframe tbody tr th:only-of-type {\n",
       "        vertical-align: middle;\n",
       "    }\n",
       "\n",
       "    .dataframe tbody tr th {\n",
       "        vertical-align: top;\n",
       "    }\n",
       "\n",
       "    .dataframe thead th {\n",
       "        text-align: right;\n",
       "    }\n",
       "</style>\n",
       "<table border=\"1\" class=\"dataframe\">\n",
       "  <thead>\n",
       "    <tr style=\"text-align: right;\">\n",
       "      <th></th>\n",
       "      <th>RRID</th>\n",
       "      <th>genotype_ID</th>\n",
       "      <th>LABID</th>\n",
       "      <th>VISIT</th>\n",
       "      <th>age</th>\n",
       "      <th>sex</th>\n",
       "      <th>ADA2010_DM</th>\n",
       "      <th>MFBG</th>\n",
       "      <th>GHB</th>\n",
       "      <th>TST</th>\n",
       "      <th>PC1</th>\n",
       "      <th>PC2</th>\n",
       "      <th>PC3</th>\n",
       "      <th>PC4</th>\n",
       "      <th>PC5</th>\n",
       "      <th>age*sex</th>\n",
       "    </tr>\n",
       "  </thead>\n",
       "  <tbody>\n",
       "    <tr>\n",
       "      <th>0</th>\n",
       "      <td>BD0009</td>\n",
       "      <td>BD0009_BD4009</td>\n",
       "      <td>15Y0224</td>\n",
       "      <td>4.0</td>\n",
       "      <td>61.2</td>\n",
       "      <td>0.0</td>\n",
       "      <td>0.0</td>\n",
       "      <td>85.0</td>\n",
       "      <td>5.1</td>\n",
       "      <td>5.0</td>\n",
       "      <td>0.010911</td>\n",
       "      <td>-0.075311</td>\n",
       "      <td>0.006324</td>\n",
       "      <td>0.020142</td>\n",
       "      <td>-0.009451</td>\n",
       "      <td>0.0</td>\n",
       "    </tr>\n",
       "    <tr>\n",
       "      <th>1</th>\n",
       "      <td>BD0013</td>\n",
       "      <td>BD0013_BD4013</td>\n",
       "      <td>15Y0242</td>\n",
       "      <td>14.0</td>\n",
       "      <td>59.8</td>\n",
       "      <td>0.0</td>\n",
       "      <td>0.0</td>\n",
       "      <td>108.0</td>\n",
       "      <td>5.5</td>\n",
       "      <td>8.0</td>\n",
       "      <td>-0.036728</td>\n",
       "      <td>0.014562</td>\n",
       "      <td>0.032178</td>\n",
       "      <td>0.003866</td>\n",
       "      <td>0.005183</td>\n",
       "      <td>0.0</td>\n",
       "    </tr>\n",
       "  </tbody>\n",
       "</table>\n",
       "</div>"
      ],
      "text/plain": [
       "     RRID    genotype_ID    LABID  VISIT   age  sex  ADA2010_DM   MFBG  GHB  \\\n",
       "0  BD0009  BD0009_BD4009  15Y0224    4.0  61.2  0.0         0.0   85.0  5.1   \n",
       "1  BD0013  BD0013_BD4013  15Y0242   14.0  59.8  0.0         0.0  108.0  5.5   \n",
       "\n",
       "   TST       PC1       PC2       PC3       PC4       PC5  age*sex  \n",
       "0  5.0  0.010911 -0.075311  0.006324  0.020142 -0.009451      0.0  \n",
       "1  8.0 -0.036728  0.014562  0.032178  0.003866  0.005183      0.0  "
      ]
     },
     "execution_count": 3,
     "metadata": {},
     "output_type": "execute_result"
    }
   ],
   "source": [
    "print('# Exclude individuals without genotype data: ', end='')\n",
    "fn_id_mapping = '/data100t1/home/wanying/CCHC/doc/samples_IDs/20220916_IDs_genotyped_all.txt'\n",
    "df_gp_id_mapping = pd.read_csv(fn_id_mapping, sep='\\t')\n",
    "n_samples = len(df_pheno)\n",
    "df_pheno = df_gp_id_mapping.merge(df_pheno, on='RRID')\n",
    "print('N sample dropped = ', n_samples - len(df_pheno))\n",
    "print('# Number of samples remaining:', len(df_pheno))\n",
    "\n",
    "# Rename columns, calcualte sex*age\n",
    "df_pheno.rename(columns = {'AGE_AT_VISIT':'age', 'GENDER':'sex', 'psqi_hrsleep':'TST'}, inplace=True)\n",
    "\n",
    "# Code male=0, female=1\n",
    "df_pheno['sex'] = df_pheno['sex'].replace(1, 0)\n",
    "df_pheno['sex'] = df_pheno['sex'].replace(2, 1)\n",
    "\n",
    "# Create age*sex column. Optional\n",
    "df_pheno['age*sex'] = df_pheno['age'] * df_pheno['sex']\n",
    "df_pheno.head(2)"
   ]
  },
  {
   "cell_type": "markdown",
   "id": "7219ec80-50a3-4ae4-a4cf-918d237b7000",
   "metadata": {},
   "source": [
    "### 1.2.2 Regress the total sleep duration to get age-sex-adjusted residuals\n",
    "R is not available on vgipiper06, use other server to run (1) R section below.\n",
    "\n",
    "Otherwise use the (2) python function in CHARGE"
   ]
  },
  {
   "cell_type": "markdown",
   "id": "5186cf82-9946-4335-947e-52d9734d7ed2",
   "metadata": {},
   "source": [
    "#### (1) R version to get residuals (code from analysis plan)"
   ]
  },
  {
   "cell_type": "code",
   "execution_count": 17,
   "id": "190b86ff-793c-425d-8f69-b707e130769e",
   "metadata": {
    "tags": []
   },
   "outputs": [],
   "source": [
    "# %%bash\n",
    "# pip install rpy2"
   ]
  },
  {
   "cell_type": "code",
   "execution_count": 18,
   "id": "df4ca52f-4487-4ee8-9c90-f421ee6b46e4",
   "metadata": {},
   "outputs": [
    {
     "name": "stdout",
     "output_type": "stream",
     "text": [
      "The rpy2.ipython extension is already loaded. To reload it, use:\n",
      "  %reload_ext rpy2.ipython\n"
     ]
    }
   ],
   "source": [
    "import rpy2\n",
    "# Check here for rpy2 extension: \n",
    "# https://rpy2.github.io/doc/latest/html/interactive.html#module-rpy2.ipython.rmagic\n",
    "%load_ext rpy2.ipython"
   ]
  },
  {
   "cell_type": "code",
   "execution_count": 19,
   "id": "74b3e408-535f-4eb8-b9e1-945b3edd991b",
   "metadata": {},
   "outputs": [
    {
     "name": "stdout",
     "output_type": "stream",
     "text": [
      "       20%        80% \n",
      "-0.9879649  1.1548211 \n"
     ]
    }
   ],
   "source": [
    "%%R  -i df_pheno -o df_pheno\n",
    "# input df_indivs_with_sleep\n",
    "# Output dataframe with residuals\n",
    "# Below R code is from analysis plan doc\n",
    "\n",
    "# df = read.table(”yourPhenotypeFile.txt”, h=T) # read data with headers\n",
    "# Note this data set should have column with TST, age and sex (men = 0, women = 1).\n",
    "\n",
    "\n",
    "#Where: \n",
    "#TST = total sleep time (continuously in hours)\n",
    "#age = age of the participant at the time of the sleep assessment\n",
    "#sex = sex of the participant\n",
    "#age*sex = the interaction between the age and sex of the participant\n",
    "\n",
    "#Define exposed participants to Short Total Sleep Time (STST) and Long Total Sleep Time (LTST):\n",
    "\n",
    "#Example script for calculating the total sleep time residuals.\n",
    "\n",
    "#For total population:\n",
    "TST.lm.all = lm(TST ~ age + sex + age*sex, data = df_pheno)\n",
    "df_pheno$TST.res.all = resid(TST.lm.all)  # age and sex-adjusted (including interaction between these) residuals in all study participants.\n",
    "\n",
    "quantile(df_pheno$TST.res.all, c(0.20, 0.80)) # 20th (residuals below this threshold will be classified as STST) and 80th (residuals above this threshold will be classified as LTST) percentiles. For the sex-stratified analyses, you can simply make the selection for either men or women; the same residuals can be used.  \n",
    "\n"
   ]
  },
  {
   "cell_type": "markdown",
   "id": "20fbb2db-d8c5-4bd1-a31b-aef4f2a742c4",
   "metadata": {},
   "source": [
    "#### (2) Python version to get residuals"
   ]
  },
  {
   "cell_type": "code",
   "execution_count": 4,
   "id": "7e1d40a1-1d86-4f20-a160-cbf5fba6d4ed",
   "metadata": {},
   "outputs": [
    {
     "name": "stdout",
     "output_type": "stream",
     "text": [
      "# Get residuals of TST\n",
      "# - 20th percentile: -0.9869025363003179\n",
      "# - 80th percentile: 1.1573809964079347\n",
      "# Save cleaned phenotype and covariates file\n"
     ]
    }
   ],
   "source": [
    "# Or use python code if rpy2 does not work (ie. on server vgipiper06)\n",
    "df_pheno, q2, q8 = CHARGE.get_residuals(df_pheno,\n",
    "                                        exposure_col='TST',\n",
    "                                        covar_cols=['sex', 'age', 'age*sex'])\n",
    "\n",
    "# Set exposure E\n",
    "# 1. Short Total Sleep Time (STST):\n",
    "#    STST = 1 if TST.res ≤ 20th percentile (i.e., E = 1)\n",
    "#    STST = 0 otherwise (E = 0)\n",
    "# 2. Long Total Sleep Time (LTST):\n",
    "#    LTST = 1 if TST.res ≥ 80th percentile (i.e., E = 1)\n",
    "#    LTST = 0 otherwise (E = 0)\n",
    "\n",
    "df_pheno['STST'] = 0\n",
    "df_pheno.loc[df_pheno['TST_residuals']<=q2, 'STST'] = 1\n",
    "df_pheno['LTST'] = 0\n",
    "df_pheno.loc[df_pheno['TST_residuals']>=q8, 'LTST'] = 1\n",
    "\n",
    "# Calcualte age*E, age2*E and sex*E\n",
    "df_pheno['age2'] = df_pheno['age']**2\n",
    "for exposure in ['LTST', 'STST']:\n",
    "    df_pheno[f'age*{exposure}'] = df_pheno['age'] * df_pheno[exposure]\n",
    "    df_pheno[f'age2*{exposure}'] = df_pheno['age2'] * df_pheno[exposure]\n",
    "    df_pheno[f'sex*{exposure}'] = df_pheno['sex'] * df_pheno[exposure]\n",
    "\n",
    "# Save output\n",
    "print('# Save cleaned phenotype and covariates file')\n",
    "output_dir = '/data100t1/home/wanying/CCHC/CHARGE_GWAS/202311_Heming_sleep_glycemia/supporting_files'\n",
    "output_fn = 'phenotype_and_covars.csv'\n",
    "if not os.path.isfile(os.path.join(output_dir, output_fn)):\n",
    "    df_pheno.to_csv(os.path.join(output_dir, output_fn), index=False)\n",
    "else:\n",
    "    print('# File already exist. Skip svaing: %s' % output_fn)"
   ]
  },
  {
   "cell_type": "markdown",
   "id": "3016f55c-18ec-4df2-8ed6-c6ce38554246",
   "metadata": {},
   "source": [
    "### 1.2.3 Adjust traits for relatedness, then perform winsorization"
   ]
  },
  {
   "cell_type": "markdown",
   "id": "0e20fa0f-24b7-49f8-b298-08cd2767f760",
   "metadata": {},
   "source": [
    "#### (1) Run null model to adjust phenotype for relatedness\n",
    "Create files to run null model"
   ]
  },
  {
   "cell_type": "code",
   "execution_count": null,
   "id": "60e977a9-2ff0-44eb-a27d-0a929e2457ed",
   "metadata": {},
   "outputs": [
    {
     "name": "stdout",
     "output_type": "stream",
     "text": [
      "# Save list of samples to be used by plink (FID and IID)\n"
     ]
    }
   ],
   "source": [
    "# ######### Unnecessary #########\n",
    "# # Create a list of samples to create grm by plink and be used in GWAS and\n",
    "# fid = df_pheno['genotype_ID'].apply(lambda x: x.split('_')[0])\n",
    "# iid = df_pheno['genotype_ID'].apply(lambda x: x.split('_')[-1])\n",
    "# df_sample_list = pd.DataFrame({'FID':fid, 'IID':iid})\n",
    "\n",
    "# print('# Save list of samples to be used by plink (FID and IID)')\n",
    "# output_dir = '/data100t1/home/wanying/CCHC/CHARGE_GWAS/202311_Heming_sleep_glycemia/supporting_files'\n",
    "# output_fn = 'sample.list'\n",
    "# if not os.path.isfile(os.path.join(output_dir, output_fn)):\n",
    "#     df_sample_list.to_csv(os.path.join(output_dir, output_fn), sep='\\t', index=False)\n",
    "# else:\n",
    "#     print('# File already exist. Skip svaing: %s' % output_fn)"
   ]
  },
  {
   "cell_type": "code",
   "execution_count": 16,
   "id": "856e9693-caab-442b-8f3c-834ad4b30025",
   "metadata": {},
   "outputs": [
    {
     "name": "stdout",
     "output_type": "stream",
     "text": [
      "# Save list of samples to be used by plink (FID and IID)\n"
     ]
    }
   ],
   "source": [
    "# # Cread pedigree file for GRM calculate\n",
    "# '''\n",
    "# Set value to 0 if missing:\n",
    "#   PED  - Pedigree ID\n",
    "#   EGO  - Individual ID\n",
    "#   FA   - Father ID\n",
    "#   MO   - Mother ID\n",
    "#   SEX  - sex (1 = male, 2 = female)\n",
    "# '''\n",
    "# df_ped = df_pheno[['genotype_ID', 'sex']].copy()\n",
    "# df_ped['PED'], df_ped['FA'], df_ped['MO'] = 0, 0, 0\n",
    "# df_ped['sex'] = df_ped['sex'].replace(1,2).replace(0,1).astype(int)\n",
    "# df_ped.rename(columns={'genotype_ID':'EGO', 'sex':'SEX'}, inplace=True)\n",
    "# df_ped = df_ped[['PED', 'EGO', 'FA', 'MO', 'SEX']]\n",
    "\n",
    "# print('# Save list of samples to be used by plink (FID and IID)')\n",
    "# output_dir = '/data100t1/home/wanying/CCHC/CHARGE_GWAS/202311_Heming_sleep_glycemia/supporting_files'\n",
    "# output_fn = 'ped.csv'\n",
    "# if not os.path.isfile(os.path.join(output_dir, output_fn)):\n",
    "#     df_ped.to_csv(os.path.join(output_dir, output_fn), sep='\\t', index=False)\n",
    "# else:\n",
    "#     print('# File already exist. Skip svaing: %s' % output_fn)"
   ]
  },
  {
   "cell_type": "markdown",
   "id": "db7a7354-ebab-4ab2-9d25-9e4a4d7f91b2",
   "metadata": {},
   "source": [
    "#### (2) Merge residuals from null model with other covariates and save to file\n",
    "1. Use files *.poly.model.csv\n",
    "2. Merge columns EGO and (trait)_ERROR_RESIDUAL to the phenotyoe file."
   ]
  },
  {
   "cell_type": "code",
   "execution_count": 5,
   "id": "c584c2d4-0ec0-48a5-b769-b4572a9145f4",
   "metadata": {},
   "outputs": [
    {
     "name": "stdout",
     "output_type": "stream",
     "text": [
      "\n",
      "# Process residuals from null model: GHB.grm.poly.model.csv\n",
      "# Process trait: GHB\n",
      "# Winsorize given values\n",
      "# - Number of values winsorized: 0\n",
      "# - N samples combined: 353\n",
      "# - N samples male: 117\n",
      "# - N samples female: 236\n",
      "\n",
      "# Process residuals from null model: MFBG.grm.poly.model.csv\n",
      "# Process trait: MFBG\n",
      "# Winsorize given values\n",
      "# - Number of values winsorized: 0\n",
      "# - N samples combined: 353\n",
      "# - N samples male: 117\n",
      "# - N samples female: 236\n",
      "# DONE\n"
     ]
    }
   ],
   "source": [
    "# Merge null model residuals\n",
    "null_model_result_dir = '/belowshare/vumcshare/data100t1/home/wanying/CCHC/CHARGE_GWAS/202311_Heming_sleep_glycemia/supporting_files/null_model_residuals'\n",
    "traits = ['GHB', 'MFBG']\n",
    "exposure = 'sleep'\n",
    "output_dir = '/belowshare/vumcshare/data100t1/home/wanying/CCHC/CHARGE_GWAS/202311_Heming_sleep_glycemia/supporting_files/phenotype_files/'\n",
    "for fn in os.listdir(null_model_result_dir):\n",
    "    if fn.endswith('.poly.model.csv'):\n",
    "        print('\\n# Process residuals from null model:', fn)\n",
    "        df = pd.read_csv(os.path.join(null_model_result_dir, fn))\n",
    "        for trait in traits:\n",
    "            res_col = trait+'_ERROR_RESIDUAL'\n",
    "            if res_col in df.columns:\n",
    "                print('# Process trait:', trait)\n",
    "                # Merge residual and phenotype by genotyope ID\n",
    "                df_merged = df[['EGO', res_col]].merge(df_pheno, left_on='EGO', right_on='genotype_ID')\n",
    "                # winsorization\n",
    "                num_winsorized, df_merged[res_col+'_winsorized'] = CHARGE.winsorization(df_merged[res_col])\n",
    "                \n",
    "                # Stratify by sex, save each output (male=0, female=1)\n",
    "                mask_male, mask_female = df_merged['sex']==0, df_merged['sex']==1\n",
    "                # Combined\n",
    "                df_merged.to_csv(output_dir+f'{trait}.{exposure}.combined.pheno.csv', index=False)\n",
    "                # Male\n",
    "                df_merged[mask_male].to_csv(output_dir+f'{trait}.{exposure}.male.pheno.csv', index=False)\n",
    "                # Female\n",
    "                df_merged[mask_female].to_csv(output_dir+f'{trait}.{exposure}.female.pheno.csv', index=False)\n",
    "                print('# - N samples combined:', len(df_merged))\n",
    "                print('# - N samples male:', len(df_merged[mask_male]))\n",
    "                print('# - N samples female:', len(df_merged[mask_female]))\n",
    "                \n",
    "print('# DONE')\n"
   ]
  },
  {
   "cell_type": "markdown",
   "id": "3b618fd5-15ac-45a8-be59-1a669aca3199",
   "metadata": {},
   "source": [
    "# 2. GWAS"
   ]
  },
  {
   "cell_type": "markdown",
   "id": "7cfa5ee8-d3cd-4823-80c1-682c96df0ceb",
   "metadata": {},
   "source": [
    "## 2.0 (SKIP) Convert VCF to MMAP binary format"
   ]
  },
  {
   "cell_type": "code",
   "execution_count": 2,
   "id": "da6fe571-0a4e-44ab-99d0-1ff1c7932788",
   "metadata": {},
   "outputs": [],
   "source": [
    "# %%bash\n",
    "## Example:\n",
    "# bash 03_SKIP_VCF2MMAP.sh /vgipiper04/CCHC/TOPMed_postimpute_042022/chr22.dose.vcf.gz 22"
   ]
  },
  {
   "cell_type": "code",
   "execution_count": null,
   "id": "aab8fc43-3232-4b6b-97bf-3702aaab37c9",
   "metadata": {},
   "outputs": [],
   "source": [
    "# trait = 'glycemia'\n",
    "\n",
    "# for chr_num in range(1, 23):\n",
    "#     vcf_fn = f'/vgipiper04/CCHC/TOPMed_postimpute_042022/chr{i}.dose.vcf.gz'\n",
    "#     cmd = f'screen -dmS {trait}_chr{chr_num}; screen -S {trait}_chr{chr_num} -X stuff '\n",
    "#     plink_cmd = f\"plink2 --vcf {vcf_fn} 'dosage'=DS --out CCHC_chr{chr_num};exit\\\\n\"\n",
    "#     cmd = f'{cmd} \"{plink_cmd}\"'\n",
    "#     print(cmd)"
   ]
  },
  {
   "cell_type": "markdown",
   "id": "1e87ddce-15f7-4bc5-80a4-917aec8d82d9",
   "metadata": {},
   "source": [
    "## 2.1 Model 1\n",
    "Joint analysis of main and interaction effects"
   ]
  },
  {
   "cell_type": "code",
   "execution_count": null,
   "id": "8290db14-892d-4ca7-8bf3-80b5b9d6c0b0",
   "metadata": {},
   "outputs": [],
   "source": [
    "# %%bash\n",
    "# Example run:\n",
    "# bash /data100t1/home/wanying/CCHC/CHARGE_GWAS/202311_Heming_sleep_glycemia/code/05_GEM_GWAS_model1.sh \\\n",
    "# 22 GHB combined LTST \\\n",
    "# /data100t1/home/wanying/CCHC/CHARGE_GWAS/202311_Heming_sleep_glycemia/supporting_files/phenotype_files/GHB.sleep.combined.pheno.csv"
   ]
  },
  {
   "cell_type": "code",
   "execution_count": 1,
   "id": "4f370e19-ff40-4042-8d26-58adae4fbd28",
   "metadata": {},
   "outputs": [],
   "source": [
    "# Save commands to file to run\n",
    "cmd_prefix = 'bash /data100t1/home/wanying/CCHC/CHARGE_GWAS/202311_Heming_sleep_glycemia/code/05_GEM_GWAS_model1_and_2.sh'\n",
    "for trait in ['MFBG', 'GHB']:\n",
    "    for exposure in ['LTST', 'STST']:\n",
    "        output_cmd_fn = f'./GWAS_cmds/cmd_GEM_GWAS_{trait}_{exposure}_model1.sh'\n",
    "        out_fh = open(output_cmd_fn, 'w')\n",
    "        for sex in ['combined', 'male', 'female']:\n",
    "            pheno_fn = f'/data100t1/home/wanying/CCHC/CHARGE_GWAS/202311_Heming_sleep_glycemia/supporting_files/phenotype_files/{trait}.sleep.combined.pheno.csv'\n",
    "            for chr_num in range(1, 23):\n",
    "                cmd = f'{cmd_prefix} {str(chr_num)} {trait} {sex} {exposure} {pheno_fn}'\n",
    "                out_fh.write(cmd + '\\n')\n",
    "        out_fh.close()"
   ]
  },
  {
   "cell_type": "markdown",
   "id": "02a2ab43-00c5-4af0-b584-9f42a85319a1",
   "metadata": {},
   "source": [
    "## 2.2 Model 2\n",
    "Analysis of main effect only"
   ]
  },
  {
   "cell_type": "code",
   "execution_count": null,
   "id": "621390a4-844c-4154-b693-2d5cbe17250d",
   "metadata": {},
   "outputs": [],
   "source": [
    "# %%bash\n",
    "# Example run:\n",
    "# bash /data100t1/home/wanying/CCHC/CHARGE_GWAS/202311_Heming_sleep_glycemia/code/05_GEM_GWAS_model1.sh \\\n",
    "# 22 GHB combined none \\\n",
    "# /data100t1/home/wanying/CCHC/CHARGE_GWAS/202311_Heming_sleep_glycemia/supporting_files/phenotype_files/GHB.sleep.combined.pheno.csv"
   ]
  },
  {
   "cell_type": "code",
   "execution_count": 2,
   "id": "65487e92-ec8f-400b-8ce1-9dc0fbe7651a",
   "metadata": {},
   "outputs": [],
   "source": [
    "# Save commands to file to run\n",
    "cmd_prefix = 'bash /data100t1/home/wanying/CCHC/CHARGE_GWAS/202311_Heming_sleep_glycemia/code/05_GEM_GWAS_model1_and_2.sh'\n",
    "for trait in ['MFBG', 'GHB']:\n",
    "    for exposure in ['none']:\n",
    "        output_cmd_fn = f'./GWAS_cmds/cmd_GEM_GWAS_{trait}_{exposure}_model2.sh'\n",
    "        out_fh = open(output_cmd_fn, 'w')\n",
    "        for sex in ['combined', 'male', 'female']:\n",
    "            pheno_fn = f'/data100t1/home/wanying/CCHC/CHARGE_GWAS/202311_Heming_sleep_glycemia/supporting_files/phenotype_files/{trait}.sleep.combined.pheno.csv'\n",
    "            for chr_num in range(1, 23):\n",
    "                cmd = f'{cmd_prefix} {str(chr_num)} {trait} {sex} {exposure} {pheno_fn}'\n",
    "                out_fh.write(cmd + '\\n')\n",
    "        out_fh.close()"
   ]
  },
  {
   "cell_type": "markdown",
   "id": "32243d86-048d-4831-b8b4-8cc7c899b996",
   "metadata": {},
   "source": [
    "## 2.3 Merge results"
   ]
  },
  {
   "cell_type": "code",
   "execution_count": null,
   "id": "30bea4a1-2d64-4c24-977b-19d50e052aa5",
   "metadata": {},
   "outputs": [],
   "source": []
  }
 ],
 "metadata": {
  "kernelspec": {
   "display_name": "Python 3",
   "language": "python",
   "name": "python3"
  },
  "language_info": {
   "codemirror_mode": {
    "name": "ipython",
    "version": 3
   },
   "file_extension": ".py",
   "mimetype": "text/x-python",
   "name": "python",
   "nbconvert_exporter": "python",
   "pygments_lexer": "ipython3",
   "version": "3.9.7"
  }
 },
 "nbformat": 4,
 "nbformat_minor": 5
}
